{
 "cells": [
  {
   "cell_type": "code",
   "execution_count": 1,
   "metadata": {},
   "outputs": [],
   "source": [
    "# UT-TOR-DATA-PT-01-2020-U-C Group Project 3\n",
    "# Final project\n",
    "# Electoral Data Import, Transformation, Export for database (csv)\n",
    "# (c) Boris Smirnov"
   ]
  },
  {
   "cell_type": "code",
   "execution_count": 2,
   "metadata": {},
   "outputs": [],
   "source": [
    "import pandas as pd\n",
    "import utilities as u"
   ]
  },
  {
   "cell_type": "code",
   "execution_count": 3,
   "metadata": {},
   "outputs": [],
   "source": [
    "parties_lst = ['LIB', 'CPC', 'NDP', 'BQ', 'GRN']\n",
    "years = [2004, 2006, 2008, 2011, 2015, 2019]"
   ]
  },
  {
   "cell_type": "code",
   "execution_count": 4,
   "metadata": {},
   "outputs": [
    {
     "name": "stdout",
     "output_type": "stream",
     "text": [
      "2004: Index(['FED Name', 'Population', 'Electors', 'Valid Ballots', 'Total Ballots',\n",
      "       'FED Id', 'Winning Pid'],\n",
      "      dtype='object')\n",
      "2006: Index(['FED Name', 'Population', 'Electors', 'Valid Ballots', 'Total Ballots',\n",
      "       'FED Id', 'Winning Pid'],\n",
      "      dtype='object')\n",
      "2008: Index(['FED Name', 'FED Id', 'Population', 'Electors', 'Valid Ballots',\n",
      "       'Total Ballots', 'Winning Pid'],\n",
      "      dtype='object')\n",
      "2011: Index(['FED Name', 'FED Id', 'Population', 'Electors', 'Valid Ballots',\n",
      "       'Total Ballots', 'Winning Pid'],\n",
      "      dtype='object')\n",
      "2015: Index(['FED Name', 'FED Id', 'Population', 'Electors', 'Valid Ballots',\n",
      "       'Total Ballots', 'Winning Pid'],\n",
      "      dtype='object')\n",
      "2019: Index(['FED Name', 'FED Id', 'Population', 'Electors', 'Valid Ballots',\n",
      "       'Total Ballots', 'Winning Pid'],\n",
      "      dtype='object')\n"
     ]
    }
   ],
   "source": [
    "for year in years:\n",
    "    table11_df = u.load_table11(year)\n",
    "    table11_df.loc[~table11_df['Winning Pid'].isin(parties_lst), 'Winning Pid'] = 'OTH'\n",
    "    \n",
    "    table12_df = u.load_table12(year)\n",
    "    table12_df.loc[~table12_df['Candidate Pid'].isin(parties_lst), 'Candidate Pid'] = 'OTH'\n",
    "\n",
    "    party_grp = table12_df.groupby(by=['FED Id', 'Candidate Pid'])\n",
    "    votes_df = party_grp['Votes'].sum()\n",
    "    votes_df = votes_df.unstack(level=-1, fill_value=0)\n",
    "\n",
    "    merged_df = pd.merge(table11_df, votes_df, left_on='FED Id', right_index=True)\n",
    "    merged_df['Year'] = year\n",
    "\n",
    "    output_df = merged_df[[\n",
    "        'Year',\n",
    "        'FED Id',\n",
    "        'FED Name',\n",
    "        'Winning Pid',\n",
    "        'Population',\n",
    "        'Electors',\n",
    "        'Total Ballots',\n",
    "        'Valid Ballots',\n",
    "        'LIB',\n",
    "        'CPC',\n",
    "        'NDP',\n",
    "        'BQ',\n",
    "        'GRN',\n",
    "        'OTH'\n",
    "    ]]\n",
    "    output_df.to_csv(f\"elections_{year}.csv\", index=False)\n"
   ]
  },
  {
   "cell_type": "code",
   "execution_count": null,
   "metadata": {},
   "outputs": [],
   "source": []
  }
 ],
 "metadata": {
  "kernelspec": {
   "display_name": "Python [conda env:.conda-PythonData] *",
   "language": "python",
   "name": "conda-env-.conda-PythonData-py"
  },
  "language_info": {
   "codemirror_mode": {
    "name": "ipython",
    "version": 3
   },
   "file_extension": ".py",
   "mimetype": "text/x-python",
   "name": "python",
   "nbconvert_exporter": "python",
   "pygments_lexer": "ipython3",
   "version": "3.6.10"
  }
 },
 "nbformat": 4,
 "nbformat_minor": 4
}
